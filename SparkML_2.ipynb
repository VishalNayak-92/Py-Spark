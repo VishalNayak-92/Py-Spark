{
 "cells": [
  {
   "cell_type": "code",
   "execution_count": 0,
   "metadata": {
    "colab": {},
    "colab_type": "code",
    "id": "FQmUyJ-p0edX"
   },
   "outputs": [],
   "source": [
    "!apt-get install openjdk-8-jdk-headless -qq > /dev/null\n",
    "!wget -q https://www-us.apache.org/dist/spark/spark-2.4.4/spark-2.4.4-bin-hadoop2.7.tgz\n",
    "!tar xf /content/spark-2.4.4-bin-hadoop2.7.tgz\n",
    "!pip install -q findspark"
   ]
  },
  {
   "cell_type": "code",
   "execution_count": 0,
   "metadata": {
    "colab": {},
    "colab_type": "code",
    "id": "TPGEgf1g0gLu"
   },
   "outputs": [],
   "source": [
    "import os\n",
    "import sys\n",
    "os.environ[\"JAVA_HOME\"] = \"/usr/lib/jvm/java-8-openjdk-amd64\"\n",
    "os.environ[\"SPARK_HOME\"] = \"/content/spark-2.4.4-bin-hadoop2.7\"\n",
    "os.environ['PYSPARK_SUBMIT_ARGS'] = '--packages com.databricks:spark-xml_2.11:0.5.0  pyspark-shell'"
   ]
  },
  {
   "cell_type": "code",
   "execution_count": 0,
   "metadata": {
    "colab": {},
    "colab_type": "code",
    "id": "yipRgUH40htk"
   },
   "outputs": [],
   "source": [
    "import findspark\n",
    "findspark.init()\n",
    "\n",
    "from pyspark.sql import SparkSession\n",
    "spark = SparkSession.builder.master(\"local[*]\").getOrCreate()"
   ]
  },
  {
   "cell_type": "code",
   "execution_count": 9,
   "metadata": {
    "colab": {
     "base_uri": "https://localhost:8080/",
     "height": 218
    },
    "colab_type": "code",
    "id": "m0Ije05I5tiJ",
    "outputId": "20755b7a-5301-46e3-c562-0fe4c303c325"
   },
   "outputs": [
    {
     "data": {
      "text/html": [
       "\n",
       "            <div>\n",
       "                <p><b>SparkSession - in-memory</b></p>\n",
       "                \n",
       "        <div>\n",
       "            <p><b>SparkContext</b></p>\n",
       "\n",
       "            <p><a href=\"http://aad07c285b46:4040\">Spark UI</a></p>\n",
       "\n",
       "            <dl>\n",
       "              <dt>Version</dt>\n",
       "                <dd><code>v2.4.4</code></dd>\n",
       "              <dt>Master</dt>\n",
       "                <dd><code>local[*]</code></dd>\n",
       "              <dt>AppName</dt>\n",
       "                <dd><code>pyspark-shell</code></dd>\n",
       "            </dl>\n",
       "        </div>\n",
       "        \n",
       "            </div>\n",
       "        "
      ],
      "text/plain": [
       "<pyspark.sql.session.SparkSession at 0x7f6a24ee1a90>"
      ]
     },
     "execution_count": 9,
     "metadata": {
      "tags": []
     },
     "output_type": "execute_result"
    }
   ],
   "source": [
    "spark"
   ]
  },
  {
   "cell_type": "markdown",
   "metadata": {
    "colab_type": "text",
    "id": "34vu70Z55uyX"
   },
   "source": [
    "## Machine learning using Spark\n",
    "### Churn prediction\n",
    "Objective: Build a machine learning classifier using Spark ML to predict churn"
   ]
  },
  {
   "cell_type": "markdown",
   "metadata": {
    "colab_type": "text",
    "id": "kcmu01jG54hf"
   },
   "source": [
    "## Data description:\n",
    "Data is available in two formats xml and json and the file names are customer_profile_data.xml and customer_billing_data.json"
   ]
  },
  {
   "cell_type": "markdown",
   "metadata": {
    "colab_type": "text",
    "id": "lR6a3ZsZ5-BP"
   },
   "source": [
    "## Data description for customer_profile_data.xml file\n",
    "* customerID: Customer ID\n",
    "* gender: Whether the customer is a male or a female\n",
    "* SeniorCitizen: Whether the customer is a senior citizen or not (1, 0)\n",
    "* Partner: Whether the customer has a partner or not (Yes, No)\n",
    "* Dependents: Whether the customer has dependents or not (Yes, No)\n",
    "* tenure: Number of months the customer has stayed with the company\n",
    "* PhoneService: Whether the customer has a phone service or not (Yes, No)\n",
    "* MultipleLines: Whether the customer has multiple lines or not (Yes, No, No phone service)\n",
    "* InternetService: Customer’s internet service provider (DSL, Fiber optic, No)\n",
    "* OnlineSecurity: Whether the customer has online security or not (Yes, No, No internet service)\n",
    "* OnlineBackup: Whether the customer has online backup or not (Yes, No, No internet service)\n",
    "* DeviceProtection: Whether the customer has device protection or not (Yes, No, No internet service)\n",
    "* TechSupport: Whether the customer has tech support or not (Yes, No, No internet service)\n",
    "* StreamingTV: Whether the customer has streaming TV or not (Yes, No, No internet service)\n",
    "* StreamingMovies: Whether the customer has streaming movies or not (Yes, No, No internet service)\n",
    "* Contract: The contract term of the customer (Month-to-month, One year, Two year)\n",
    "* PaperlessBilling: Whether the customer has paperless billing or not (Yes, No)\n",
    "* Churn: Whether the customer churned or not (Yes or No)"
   ]
  },
  {
   "cell_type": "markdown",
   "metadata": {
    "colab_type": "text",
    "id": "f36bMy9d6kuJ"
   },
   "source": [
    "## Data description for customer_billing_data.json file\n",
    "* customerID: Customer ID\n",
    "* PaymentMethod: The customer’s payment method (Electronic check, Mailed check, Bank transfer (automatic), Credit card (automatic))\n",
    "* MonthlyCharges: The amount charged to the customer monthly\n",
    "* TotalCharges: The total amount charged to the customer"
   ]
  },
  {
   "cell_type": "code",
   "execution_count": 0,
   "metadata": {
    "colab": {},
    "colab_type": "code",
    "id": "qOob7M-v6u0I"
   },
   "outputs": [],
   "source": [
    "billing_df = spark.read.format('json')\\\n",
    "    .load('customer_billing_data.json')"
   ]
  },
  {
   "cell_type": "code",
   "execution_count": 8,
   "metadata": {
    "colab": {
     "base_uri": "https://localhost:8080/",
     "height": 466
    },
    "colab_type": "code",
    "id": "olkIpHwu6-y7",
    "outputId": "31aa268a-4bc2-4779-8da9-eecb997b56c2"
   },
   "outputs": [
    {
     "name": "stdout",
     "output_type": "stream",
     "text": [
      "+--------------+--------------------+------------+----------+\n",
      "|MonthlyCharges|       PaymentMethod|TotalCharges|customerID|\n",
      "+--------------+--------------------+------------+----------+\n",
      "|          65.6|        Mailed check|       593.3|0002-ORFBO|\n",
      "|          59.9|        Mailed check|       542.4|0003-MKNFE|\n",
      "|          73.9|    Electronic check|      280.85|0004-TLHLJ|\n",
      "|          98.0|    Electronic check|     1237.85|0011-IGKFF|\n",
      "|          83.9|        Mailed check|       267.4|0013-EXCHZ|\n",
      "|          69.4|Credit card (auto...|      571.45|0013-MHZWF|\n",
      "|         109.7|Bank transfer (au...|     7904.25|0013-SMEOE|\n",
      "|         84.65|Credit card (auto...|      5377.8|0014-BMAQU|\n",
      "|          48.2|    Electronic check|      340.35|0015-UOCOJ|\n",
      "|         90.45|        Mailed check|      5957.9|0016-QLJIS|\n",
      "|          45.2|Credit card (auto...|     2460.55|0017-DINOC|\n",
      "|         116.8|Credit card (auto...|     8456.75|0017-IUDMW|\n",
      "|         101.3|Bank transfer (au...|     7261.25|0019-EFAEP|\n",
      "|         45.05|Bank transfer (au...|      2560.1|0019-GFNTW|\n",
      "|         95.75|Credit card (auto...|      6849.4|0020-INWCK|\n",
      "|         61.25|        Mailed check|      1993.2|0020-JDNXP|\n",
      "|          72.1|    Electronic check|        72.1|0021-IKXGC|\n",
      "|          62.7|Credit card (auto...|      2791.5|0022-TCJCI|\n",
      "|          25.2|    Electronic check|      1306.3|0023-UYUPN|\n",
      "|          94.1|    Electronic check|      1215.6|0023-XUOPT|\n",
      "+--------------+--------------------+------------+----------+\n",
      "only showing top 20 rows\n",
      "\n"
     ]
    }
   ],
   "source": [
    "billing_df.show()"
   ]
  },
  {
   "cell_type": "code",
   "execution_count": 0,
   "metadata": {
    "colab": {},
    "colab_type": "code",
    "id": "nBthsGc40j__"
   },
   "outputs": [],
   "source": [
    "profile_df = spark.read.format('xml')\\\n",
    "    .option('rowTag', 'customer_profile')\\\n",
    "    .load('customer_profile_data.xml')"
   ]
  },
  {
   "cell_type": "code",
   "execution_count": 6,
   "metadata": {
    "colab": {
     "base_uri": "https://localhost:8080/",
     "height": 486
    },
    "colab_type": "code",
    "id": "Il5H2LIm3zQ2",
    "outputId": "04f83172-9b59-461c-b74e-f9230b065c20"
   },
   "outputs": [
    {
     "name": "stdout",
     "output_type": "stream",
     "text": [
      "+-----+--------------+----------+-------------------+---------------+----------------+-------------------+-------------------+----------------+-------+------------+-------------+-------------------+-------------------+-------------------+----------+------+------+\n",
      "|Churn|      Contract|Dependents|   DeviceProtection|InternetService|   MultipleLines|       OnlineBackup|     OnlineSecurity|PaperlessBilling|Partner|PhoneService|SeniorCitizen|    StreamingMovies|        StreamingTV|        TechSupport|customerID|gender|tenure|\n",
      "+-----+--------------+----------+-------------------+---------------+----------------+-------------------+-------------------+----------------+-------+------------+-------------+-------------------+-------------------+-------------------+----------+------+------+\n",
      "|   No|      One year|       Yes|                 No|            DSL|              No|                Yes|                 No|             Yes|    Yes|         Yes|            0|                 No|                Yes|                Yes|0002-ORFBO|Female|     9|\n",
      "|   No|Month-to-month|        No|                 No|            DSL|             Yes|                 No|                 No|              No|     No|         Yes|            0|                Yes|                 No|                 No|0003-MKNFE|  Male|     9|\n",
      "|  Yes|Month-to-month|        No|                Yes|    Fiber optic|              No|                 No|                 No|             Yes|     No|         Yes|            0|                 No|                 No|                 No|0004-TLHLJ|  Male|     4|\n",
      "|  Yes|Month-to-month|        No|                Yes|    Fiber optic|              No|                Yes|                 No|             Yes|    Yes|         Yes|            1|                Yes|                Yes|                 No|0011-IGKFF|  Male|    13|\n",
      "|  Yes|Month-to-month|        No|                 No|    Fiber optic|              No|                 No|                 No|             Yes|    Yes|         Yes|            1|                 No|                Yes|                Yes|0013-EXCHZ|Female|     3|\n",
      "|   No|Month-to-month|       Yes|                 No|            DSL|              No|                 No|                 No|             Yes|     No|         Yes|            0|                Yes|                Yes|                Yes|0013-MHZWF|Female|     9|\n",
      "|   No|      Two year|        No|                Yes|    Fiber optic|              No|                Yes|                Yes|             Yes|    Yes|         Yes|            1|                Yes|                Yes|                Yes|0013-SMEOE|Female|    71|\n",
      "|   No|      Two year|        No|                 No|    Fiber optic|             Yes|                 No|                Yes|             Yes|    Yes|         Yes|            0|                 No|                 No|                Yes|0014-BMAQU|  Male|    63|\n",
      "|   No|Month-to-month|        No|                 No|            DSL|              No|                 No|                Yes|             Yes|     No|         Yes|            1|                 No|                 No|                 No|0015-UOCOJ|Female|     7|\n",
      "|   No|      Two year|       Yes|                Yes|            DSL|             Yes|                Yes|                Yes|             Yes|    Yes|         Yes|            0|                Yes|                Yes|                Yes|0016-QLJIS|Female|    65|\n",
      "|   No|      Two year|        No|                 No|            DSL|No phone service|                 No|                Yes|              No|     No|          No|            0|                 No|                Yes|                Yes|0017-DINOC|  Male|    54|\n",
      "|   No|      Two year|       Yes|                Yes|    Fiber optic|             Yes|                Yes|                Yes|             Yes|    Yes|         Yes|            0|                Yes|                Yes|                Yes|0017-IUDMW|Female|    72|\n",
      "|   No|      Two year|        No|                Yes|    Fiber optic|             Yes|                Yes|                Yes|             Yes|     No|         Yes|            0|                 No|                Yes|                 No|0019-EFAEP|Female|    72|\n",
      "|   No|      Two year|        No|                Yes|            DSL|No phone service|                Yes|                Yes|              No|     No|          No|            0|                 No|                 No|                Yes|0019-GFNTW|Female|    56|\n",
      "|   No|      Two year|       Yes|                Yes|    Fiber optic|             Yes|                Yes|                 No|             Yes|    Yes|         Yes|            0|                Yes|                 No|                 No|0020-INWCK|Female|    71|\n",
      "|   No|      One year|       Yes|                Yes|            DSL|No phone service|                 No|                Yes|              No|    Yes|          No|            0|                Yes|                Yes|                Yes|0020-JDNXP|Female|    34|\n",
      "|   No|Month-to-month|        No|                 No|    Fiber optic|             Yes|                 No|                 No|             Yes|     No|         Yes|            1|                 No|                 No|                 No|0021-IKXGC|Female|     1|\n",
      "|  Yes|      One year|        No|                Yes|            DSL|              No|                 No|                Yes|              No|     No|         Yes|            1|                Yes|                 No|                 No|0022-TCJCI|  Male|    45|\n",
      "|   No|      One year|        No|No internet service|             No|             Yes|No internet service|No internet service|              No|    Yes|         Yes|            1|No internet service|No internet service|No internet service|0023-UYUPN|Female|    50|\n",
      "|  Yes|Month-to-month|        No|                Yes|    Fiber optic|             Yes|                Yes|                 No|              No|    Yes|         Yes|            0|                 No|                Yes|                 No|0023-XUOPT|Female|    13|\n",
      "+-----+--------------+----------+-------------------+---------------+----------------+-------------------+-------------------+----------------+-------+------------+-------------+-------------------+-------------------+-------------------+----------+------+------+\n",
      "only showing top 20 rows\n",
      "\n"
     ]
    }
   ],
   "source": [
    "profile_df.show()"
   ]
  },
  {
   "cell_type": "markdown",
   "metadata": {
    "colab_type": "text",
    "id": "HIlhwgFT7Gux"
   },
   "source": [
    "Verify the row counts of the two DataFrames and check whether the counts are matching or not"
   ]
  },
  {
   "cell_type": "code",
   "execution_count": 0,
   "metadata": {
    "colab": {
     "base_uri": "https://localhost:8080/",
     "height": 34
    },
    "colab_type": "code",
    "id": "fIAmgket4zty",
    "outputId": "a75872a3-3b27-4a69-9aee-e234cea47f63"
   },
   "outputs": [
    {
     "name": "stdout",
     "output_type": "stream",
     "text": [
      "row counts matched in both dataframes\n"
     ]
    }
   ],
   "source": [
    "if profile_df.count() == billing_df.count():\n",
    "    print('row counts matched in both dataframes')\n",
    "else:\n",
    "    print('row counts not matched')"
   ]
  },
  {
   "cell_type": "code",
   "execution_count": 0,
   "metadata": {
    "colab": {
     "base_uri": "https://localhost:8080/",
     "height": 34
    },
    "colab_type": "code",
    "id": "JUDdHCoa7Juu",
    "outputId": "a1961671-eb6e-43f1-bdbe-63f0d23cb53b"
   },
   "outputs": [
    {
     "name": "stdout",
     "output_type": "stream",
     "text": [
      "row counts : 6311 6311\n"
     ]
    }
   ],
   "source": [
    "print('row counts :', profile_df.count(), billing_df.count())"
   ]
  },
  {
   "cell_type": "markdown",
   "metadata": {
    "colab_type": "text",
    "id": "uX-koN537Wjw"
   },
   "source": [
    "Verify columns"
   ]
  },
  {
   "cell_type": "code",
   "execution_count": 0,
   "metadata": {
    "colab": {
     "base_uri": "https://localhost:8080/",
     "height": 54
    },
    "colab_type": "code",
    "id": "SFZjuVRb7XEp",
    "outputId": "4a61e77e-cb8f-4c0a-d237-29dc5ae02cfe"
   },
   "outputs": [
    {
     "name": "stdout",
     "output_type": "stream",
     "text": [
      "['Churn', 'Contract', 'Dependents', 'DeviceProtection', 'InternetService', 'MultipleLines', 'OnlineBackup', 'OnlineSecurity', 'PaperlessBilling', 'Partner', 'PhoneService', 'SeniorCitizen', 'StreamingMovies', 'StreamingTV', 'TechSupport', 'customerID', 'gender', 'tenure']\n"
     ]
    }
   ],
   "source": [
    "print(profile_df.columns)"
   ]
  },
  {
   "cell_type": "code",
   "execution_count": 0,
   "metadata": {
    "colab": {
     "base_uri": "https://localhost:8080/",
     "height": 34
    },
    "colab_type": "code",
    "id": "bDF8Rik07aIL",
    "outputId": "6acc37f5-2e8c-4e2f-cf74-0e698246c5ad"
   },
   "outputs": [
    {
     "name": "stdout",
     "output_type": "stream",
     "text": [
      "['MonthlyCharges', 'PaymentMethod', 'TotalCharges', 'customerID']\n"
     ]
    }
   ],
   "source": [
    "print(billing_df.columns)"
   ]
  },
  {
   "cell_type": "markdown",
   "metadata": {
    "colab_type": "text",
    "id": "wGPnx0Cn7gao"
   },
   "source": [
    "# Common column name in two dataframes"
   ]
  },
  {
   "cell_type": "code",
   "execution_count": 0,
   "metadata": {
    "colab": {
     "base_uri": "https://localhost:8080/",
     "height": 34
    },
    "colab_type": "code",
    "id": "I7CtCFmn7iID",
    "outputId": "a18194b8-73bf-4850-f93e-0c4db2f4173d"
   },
   "outputs": [
    {
     "data": {
      "text/plain": [
       "['customerID']"
      ]
     },
     "execution_count": 11,
     "metadata": {
      "tags": []
     },
     "output_type": "execute_result"
    }
   ],
   "source": [
    "profile_df_cols = profile_df.columns\n",
    "billing_df_cols = billing_df.columns\n",
    "\n",
    "[item for i, item in enumerate(profile_df_cols) if item in billing_df_cols]"
   ]
  },
  {
   "cell_type": "markdown",
   "metadata": {
    "colab_type": "text",
    "id": "a09uMA5T7uXe"
   },
   "source": [
    "## Combine two dataframes"
   ]
  },
  {
   "cell_type": "code",
   "execution_count": 0,
   "metadata": {
    "colab": {},
    "colab_type": "code",
    "id": "Bvti7WaP7yqc"
   },
   "outputs": [],
   "source": [
    "combined_df = profile_df.join(billing_df, 'customerID')"
   ]
  },
  {
   "cell_type": "markdown",
   "metadata": {
    "colab_type": "text",
    "id": "pIUscB407400"
   },
   "source": [
    "## Verify dataframe"
   ]
  },
  {
   "cell_type": "code",
   "execution_count": 0,
   "metadata": {
    "colab": {
     "base_uri": "https://localhost:8080/",
     "height": 34
    },
    "colab_type": "code",
    "id": "RgY5-kXX76SF",
    "outputId": "dc0850fb-b6a1-4287-cb2d-af72e19b2886"
   },
   "outputs": [
    {
     "name": "stdout",
     "output_type": "stream",
     "text": [
      "row counts:  6311\n"
     ]
    }
   ],
   "source": [
    "print('row counts: ', combined_df.count())"
   ]
  },
  {
   "cell_type": "code",
   "execution_count": 0,
   "metadata": {
    "colab": {
     "base_uri": "https://localhost:8080/",
     "height": 207
    },
    "colab_type": "code",
    "id": "BdgJVgMt78UW",
    "outputId": "14877de7-301c-4101-9aae-86b771a8c0d7"
   },
   "outputs": [
    {
     "name": "stdout",
     "output_type": "stream",
     "text": [
      "+----------+-----+--------------+----------+----------------+---------------+-------------+------------+--------------+----------------+-------+------------+-------------+---------------+-----------+-----------+------+------+--------------+----------------+------------+\n",
      "|customerID|Churn|      Contract|Dependents|DeviceProtection|InternetService|MultipleLines|OnlineBackup|OnlineSecurity|PaperlessBilling|Partner|PhoneService|SeniorCitizen|StreamingMovies|StreamingTV|TechSupport|gender|tenure|MonthlyCharges|   PaymentMethod|TotalCharges|\n",
      "+----------+-----+--------------+----------+----------------+---------------+-------------+------------+--------------+----------------+-------+------------+-------------+---------------+-----------+-----------+------+------+--------------+----------------+------------+\n",
      "|0002-ORFBO|   No|      One year|       Yes|              No|            DSL|           No|         Yes|            No|             Yes|    Yes|         Yes|            0|             No|        Yes|        Yes|Female|     9|          65.6|    Mailed check|       593.3|\n",
      "|0003-MKNFE|   No|Month-to-month|        No|              No|            DSL|          Yes|          No|            No|              No|     No|         Yes|            0|            Yes|         No|         No|  Male|     9|          59.9|    Mailed check|       542.4|\n",
      "|0004-TLHLJ|  Yes|Month-to-month|        No|             Yes|    Fiber optic|           No|          No|            No|             Yes|     No|         Yes|            0|             No|         No|         No|  Male|     4|          73.9|Electronic check|      280.85|\n",
      "|0011-IGKFF|  Yes|Month-to-month|        No|             Yes|    Fiber optic|           No|         Yes|            No|             Yes|    Yes|         Yes|            1|            Yes|        Yes|         No|  Male|    13|          98.0|Electronic check|     1237.85|\n",
      "+----------+-----+--------------+----------+----------------+---------------+-------------+------------+--------------+----------------+-------+------------+-------------+---------------+-----------+-----------+------+------+--------------+----------------+------------+\n",
      "only showing top 4 rows\n",
      "\n"
     ]
    }
   ],
   "source": [
    "combined_df.show(4)"
   ]
  },
  {
   "cell_type": "code",
   "execution_count": 0,
   "metadata": {
    "colab": {},
    "colab_type": "code",
    "id": "tAYm84Ac7--8"
   },
   "outputs": [],
   "source": [
    "import pyspark.sql.functions as F"
   ]
  },
  {
   "cell_type": "code",
   "execution_count": 0,
   "metadata": {
    "colab": {
     "base_uri": "https://localhost:8080/",
     "height": 139
    },
    "colab_type": "code",
    "id": "mvFuYTqB8DxA",
    "outputId": "6ed58aa1-2ab8-453a-d414-fd648835b65f"
   },
   "outputs": [
    {
     "name": "stdout",
     "output_type": "stream",
     "text": [
      "+----------+-----+--------+----------+----------------+---------------+-------------+------------+--------------+----------------+-------+------------+-------------+---------------+-----------+-----------+------+------+--------------+-------------+------------+\n",
      "|customerID|Churn|Contract|Dependents|DeviceProtection|InternetService|MultipleLines|OnlineBackup|OnlineSecurity|PaperlessBilling|Partner|PhoneService|SeniorCitizen|StreamingMovies|StreamingTV|TechSupport|gender|tenure|MonthlyCharges|PaymentMethod|TotalCharges|\n",
      "+----------+-----+--------+----------+----------------+---------------+-------------+------------+--------------+----------------+-------+------------+-------------+---------------+-----------+-----------+------+------+--------------+-------------+------------+\n",
      "|         0|    0|       0|         0|               0|              0|            0|           0|             0|               0|      0|           0|            0|              0|          0|          0|     0|     0|             0|            0|           0|\n",
      "+----------+-----+--------+----------+----------------+---------------+-------------+------------+--------------+----------------+-------+------------+-------------+---------------+-----------+-----------+------+------+--------------+-------------+------------+\n",
      "\n"
     ]
    }
   ],
   "source": [
    "combined_df.select([\n",
    "    F.count(F.when(F.isnan(F.col(c)) | F.col(c).isNull(), F.col(c))).alias(c)\n",
    "    for c in combined_df.columns\n",
    "]).show()"
   ]
  },
  {
   "cell_type": "code",
   "execution_count": 0,
   "metadata": {
    "colab": {
     "base_uri": "https://localhost:8080/",
     "height": 139
    },
    "colab_type": "code",
    "id": "RX0efksQ8Fe2",
    "outputId": "458c047f-880b-48a8-e90f-48562959ce83"
   },
   "outputs": [
    {
     "name": "stdout",
     "output_type": "stream",
     "text": [
      "+----------+-----+--------+----------+----------------+---------------+-------------+------------+--------------+----------------+-------+------------+-------------+---------------+-----------+-----------+------+------+--------------+-------------+------------+\n",
      "|customerID|Churn|Contract|Dependents|DeviceProtection|InternetService|MultipleLines|OnlineBackup|OnlineSecurity|PaperlessBilling|Partner|PhoneService|SeniorCitizen|StreamingMovies|StreamingTV|TechSupport|gender|tenure|MonthlyCharges|PaymentMethod|TotalCharges|\n",
      "+----------+-----+--------+----------+----------------+---------------+-------------+------------+--------------+----------------+-------+------------+-------------+---------------+-----------+-----------+------+------+--------------+-------------+------------+\n",
      "|         0|    0|       0|         0|               0|              0|            0|           0|             0|               0|      0|           0|            0|              0|          0|          0|     0|     0|             0|            0|          11|\n",
      "+----------+-----+--------+----------+----------------+---------------+-------------+------------+--------------+----------------+-------+------------+-------------+---------------+-----------+-----------+------+------+--------------+-------------+------------+\n",
      "\n"
     ]
    }
   ],
   "source": [
    "combined_df.select([\n",
    "    F.count(F.when(F.col(c) == ' ', F.col(c))).alias(c)\n",
    "    for c in combined_df.columns\n",
    "]).show()"
   ]
  },
  {
   "cell_type": "code",
   "execution_count": 0,
   "metadata": {
    "colab": {},
    "colab_type": "code",
    "id": "yQjNPrNG8LR1"
   },
   "outputs": [],
   "source": [
    "combined_df = combined_df.filter(F.col('TotalCharges') != ' ')"
   ]
  },
  {
   "cell_type": "code",
   "execution_count": 0,
   "metadata": {
    "colab": {
     "base_uri": "https://localhost:8080/",
     "height": 34
    },
    "colab_type": "code",
    "id": "JMe1oU8Y8QpG",
    "outputId": "05fc81d1-eeb2-445d-f362-d69dd397d687"
   },
   "outputs": [
    {
     "data": {
      "text/plain": [
       "6300"
      ]
     },
     "execution_count": 20,
     "metadata": {
      "tags": []
     },
     "output_type": "execute_result"
    }
   ],
   "source": [
    "combined_df.count()"
   ]
  },
  {
   "cell_type": "code",
   "execution_count": 0,
   "metadata": {
    "colab": {
     "base_uri": "https://localhost:8080/",
     "height": 139
    },
    "colab_type": "code",
    "id": "Ql-SH6rg8S-O",
    "outputId": "08b06507-4fe2-4fc8-da86-a5c7e86372a1"
   },
   "outputs": [
    {
     "name": "stdout",
     "output_type": "stream",
     "text": [
      "+----------+-----+--------+----------+----------------+---------------+-------------+------------+--------------+----------------+-------+------------+-------------+---------------+-----------+-----------+------+------+--------------+-------------+------------+\n",
      "|customerID|Churn|Contract|Dependents|DeviceProtection|InternetService|MultipleLines|OnlineBackup|OnlineSecurity|PaperlessBilling|Partner|PhoneService|SeniorCitizen|StreamingMovies|StreamingTV|TechSupport|gender|tenure|MonthlyCharges|PaymentMethod|TotalCharges|\n",
      "+----------+-----+--------+----------+----------------+---------------+-------------+------------+--------------+----------------+-------+------------+-------------+---------------+-----------+-----------+------+------+--------------+-------------+------------+\n",
      "|         0|    0|       0|         0|               0|              0|            0|           0|             0|               0|      0|           0|            0|              0|          0|          0|     0|     0|             0|            0|           0|\n",
      "+----------+-----+--------+----------+----------------+---------------+-------------+------------+--------------+----------------+-------+------------+-------------+---------------+-----------+-----------+------+------+--------------+-------------+------------+\n",
      "\n"
     ]
    }
   ],
   "source": [
    "combined_df.select([\n",
    "    F.count(F.when(F.col(c) == ' ', F.col(c))).alias(c)\n",
    "    for c in combined_df.columns\n",
    "]).show()"
   ]
  },
  {
   "cell_type": "markdown",
   "metadata": {
    "colab_type": "text",
    "id": "dqBxQiMg8g7m"
   },
   "source": [
    "# Verify the type of the ‘TotalCharges’ column, change it to Double if not"
   ]
  },
  {
   "cell_type": "code",
   "execution_count": 0,
   "metadata": {
    "colab": {
     "base_uri": "https://localhost:8080/",
     "height": 374
    },
    "colab_type": "code",
    "id": "Q_MH0F5J8iy9",
    "outputId": "5aa2cb41-12b0-4757-8ff5-1433f970f65a"
   },
   "outputs": [
    {
     "data": {
      "text/plain": [
       "[('customerID', 'string'),\n",
       " ('Churn', 'string'),\n",
       " ('Contract', 'string'),\n",
       " ('Dependents', 'string'),\n",
       " ('DeviceProtection', 'string'),\n",
       " ('InternetService', 'string'),\n",
       " ('MultipleLines', 'string'),\n",
       " ('OnlineBackup', 'string'),\n",
       " ('OnlineSecurity', 'string'),\n",
       " ('PaperlessBilling', 'string'),\n",
       " ('Partner', 'string'),\n",
       " ('PhoneService', 'string'),\n",
       " ('SeniorCitizen', 'bigint'),\n",
       " ('StreamingMovies', 'string'),\n",
       " ('StreamingTV', 'string'),\n",
       " ('TechSupport', 'string'),\n",
       " ('gender', 'string'),\n",
       " ('tenure', 'bigint'),\n",
       " ('MonthlyCharges', 'double'),\n",
       " ('PaymentMethod', 'string'),\n",
       " ('TotalCharges', 'string')]"
      ]
     },
     "execution_count": 22,
     "metadata": {
      "tags": []
     },
     "output_type": "execute_result"
    }
   ],
   "source": [
    "combined_df.dtypes"
   ]
  },
  {
   "cell_type": "code",
   "execution_count": 0,
   "metadata": {
    "colab": {},
    "colab_type": "code",
    "id": "dbhhN-1D8ktF"
   },
   "outputs": [],
   "source": [
    "combined_df = combined_df.withColumn('TotalCharges', \n",
    "                                     F.col('TotalCharges').cast('double'))"
   ]
  },
  {
   "cell_type": "code",
   "execution_count": 0,
   "metadata": {
    "colab": {
     "base_uri": "https://localhost:8080/",
     "height": 374
    },
    "colab_type": "code",
    "id": "Iy_nQGo58nmH",
    "outputId": "39d78b86-7067-451a-abd4-f4898f4d4772"
   },
   "outputs": [
    {
     "data": {
      "text/plain": [
       "[('customerID', 'string'),\n",
       " ('Churn', 'string'),\n",
       " ('Contract', 'string'),\n",
       " ('Dependents', 'string'),\n",
       " ('DeviceProtection', 'string'),\n",
       " ('InternetService', 'string'),\n",
       " ('MultipleLines', 'string'),\n",
       " ('OnlineBackup', 'string'),\n",
       " ('OnlineSecurity', 'string'),\n",
       " ('PaperlessBilling', 'string'),\n",
       " ('Partner', 'string'),\n",
       " ('PhoneService', 'string'),\n",
       " ('SeniorCitizen', 'bigint'),\n",
       " ('StreamingMovies', 'string'),\n",
       " ('StreamingTV', 'string'),\n",
       " ('TechSupport', 'string'),\n",
       " ('gender', 'string'),\n",
       " ('tenure', 'bigint'),\n",
       " ('MonthlyCharges', 'double'),\n",
       " ('PaymentMethod', 'string'),\n",
       " ('TotalCharges', 'double')]"
      ]
     },
     "execution_count": 24,
     "metadata": {
      "tags": []
     },
     "output_type": "execute_result"
    }
   ],
   "source": [
    "combined_df.dtypes"
   ]
  },
  {
   "cell_type": "markdown",
   "metadata": {
    "colab_type": "text",
    "id": "MKx4JHZj8vCz"
   },
   "source": [
    "# Replace the values in ‘SeniorCitizen’ column as"
   ]
  },
  {
   "cell_type": "code",
   "execution_count": 0,
   "metadata": {
    "colab": {
     "base_uri": "https://localhost:8080/",
     "height": 136
    },
    "colab_type": "code",
    "id": "O05ArYnK8v3r",
    "outputId": "e7f42a75-9561-4663-b0b6-07f33a37d8a1"
   },
   "outputs": [
    {
     "name": "stdout",
     "output_type": "stream",
     "text": [
      "+-------------+\n",
      "|SeniorCitizen|\n",
      "+-------------+\n",
      "|            0|\n",
      "|            1|\n",
      "+-------------+\n",
      "\n"
     ]
    }
   ],
   "source": [
    "combined_df.select('SeniorCitizen').distinct().show()"
   ]
  },
  {
   "cell_type": "code",
   "execution_count": 0,
   "metadata": {
    "colab": {},
    "colab_type": "code",
    "id": "iUI8qDcP8zD0"
   },
   "outputs": [],
   "source": [
    "combined_df = combined_df.withColumn(\n",
    "    'SeniorCitizen',\n",
    "    F.when(F.col('SeniorCitizen') == 0, 'No').otherwise('Yes'))"
   ]
  },
  {
   "cell_type": "code",
   "execution_count": 0,
   "metadata": {
    "colab": {
     "base_uri": "https://localhost:8080/",
     "height": 136
    },
    "colab_type": "code",
    "id": "_Q8Wu5zE9VU-",
    "outputId": "0e93580f-2976-4ae3-bc8f-d9915138dd6f"
   },
   "outputs": [
    {
     "name": "stdout",
     "output_type": "stream",
     "text": [
      "+-------------+\n",
      "|SeniorCitizen|\n",
      "+-------------+\n",
      "|           No|\n",
      "|          Yes|\n",
      "+-------------+\n",
      "\n"
     ]
    }
   ],
   "source": [
    "combined_df.select('SeniorCitizen').distinct().show()"
   ]
  },
  {
   "cell_type": "code",
   "execution_count": 0,
   "metadata": {
    "colab": {},
    "colab_type": "code",
    "id": "v8pEO5se9XNh"
   },
   "outputs": [],
   "source": [
    "## Create View for the new dataframe\n",
    "combined_df.registerTempTable(\"combined_df_table\")"
   ]
  },
  {
   "cell_type": "code",
   "execution_count": 0,
   "metadata": {
    "colab": {
     "base_uri": "https://localhost:8080/",
     "height": 136
    },
    "colab_type": "code",
    "id": "7nWqKIxx9aYT",
    "outputId": "69ba73f1-6466-4106-c47e-fc4b3d999737"
   },
   "outputs": [
    {
     "name": "stdout",
     "output_type": "stream",
     "text": [
      "+-----+-----+\n",
      "|Churn|count|\n",
      "+-----+-----+\n",
      "|   No| 4641|\n",
      "|  Yes| 1659|\n",
      "+-----+-----+\n",
      "\n"
     ]
    }
   ],
   "source": [
    "result_df = combined_df.groupBy('Churn').count()\n",
    "result_df.show()"
   ]
  },
  {
   "cell_type": "code",
   "execution_count": 0,
   "metadata": {
    "colab": {
     "base_uri": "https://localhost:8080/",
     "height": 136
    },
    "colab_type": "code",
    "id": "RvngkrHV9cCl",
    "outputId": "554477e6-3b76-4061-e6a1-46aebd460861"
   },
   "outputs": [
    {
     "name": "stdout",
     "output_type": "stream",
     "text": [
      "+-----+-----+\n",
      "|Churn|Count|\n",
      "+-----+-----+\n",
      "|   No| 4641|\n",
      "|  Yes| 1659|\n",
      "+-----+-----+\n",
      "\n"
     ]
    }
   ],
   "source": [
    "## Multiple ways of referring a column in a dataframe\n",
    "result_df = spark.sql(\"\"\"\n",
    "SELECT Churn, COUNT(*) AS Count\n",
    "FROM combined_df_table\n",
    "GROUP BY Churn\n",
    "\"\"\")\n",
    "\n",
    "result_df.show()"
   ]
  },
  {
   "cell_type": "markdown",
   "metadata": {
    "colab_type": "text",
    "id": "iBiGHvow9p1M"
   },
   "source": [
    "# Bin the data in the tenure column\n",
    "# Use bucketizer available in pyspark.ml.feature"
   ]
  },
  {
   "cell_type": "markdown",
   "metadata": {
    "colab_type": "text",
    "id": "nCnBaEJS9qPx"
   },
   "source": [
    "Bin the data into 7 bins as follows\n",
    "\n",
    "* Split-1 for tenure <= 10\n",
    "* Split-2 for tenure > 10 and <= 20\n",
    "* Split-3 for tenure > 20 and <= 30\n",
    "* Split-4 for tenure > 30 and <= 40\n",
    "* Split-5 for tenure > 40 and <= 50\n",
    "* Split-6 for tenure > 50 and <= 60\n",
    "* Split-7 for tenure > 60"
   ]
  },
  {
   "cell_type": "code",
   "execution_count": 0,
   "metadata": {
    "colab": {
     "base_uri": "https://localhost:8080/",
     "height": 306
    },
    "colab_type": "code",
    "id": "795qck2K90pE",
    "outputId": "0614fb40-3927-4041-fc4a-f603a67e7403"
   },
   "outputs": [
    {
     "name": "stdout",
     "output_type": "stream",
     "text": [
      "Bucketizer output with 7 buckets\n",
      "+------+-----------------+\n",
      "|tenure|bucketized_tenure|\n",
      "+------+-----------------+\n",
      "|     9|              0.0|\n",
      "|     9|              0.0|\n",
      "|     4|              0.0|\n",
      "|    13|              1.0|\n",
      "|     3|              0.0|\n",
      "|     9|              0.0|\n",
      "|    71|              6.0|\n",
      "|    63|              6.0|\n",
      "|     7|              0.0|\n",
      "|    65|              6.0|\n",
      "+------+-----------------+\n",
      "only showing top 10 rows\n",
      "\n"
     ]
    }
   ],
   "source": [
    "from pyspark.ml.feature import Bucketizer\n",
    "\n",
    "splits = [\n",
    "    -float('inf'), 10.01, 20.01, 30.01, 40.01, 50.01, 60.01,\n",
    "    float('inf')\n",
    "]\n",
    "\n",
    "bucketizer = Bucketizer(\n",
    "    splits=splits, inputCol='tenure', outputCol='bucketized_tenure')\n",
    "\n",
    "# Transform original data into its bucket index.\n",
    "combined_df = bucketizer.transform(combined_df)\n",
    "\n",
    "print(\"Bucketizer output with %d buckets\" % (len(bucketizer.getSplits()) - 1))\n",
    "combined_df.select(\"tenure\", \"bucketized_tenure\").show(10)"
   ]
  },
  {
   "cell_type": "code",
   "execution_count": 0,
   "metadata": {
    "colab": {
     "base_uri": "https://localhost:8080/",
     "height": 207
    },
    "colab_type": "code",
    "id": "HoH5a6kL95BA",
    "outputId": "67dd78fe-41f9-4ae3-de94-2c008c419355"
   },
   "outputs": [
    {
     "name": "stdout",
     "output_type": "stream",
     "text": [
      "+----------+-----+--------------+----------+----------------+---------------+-------------+------------+--------------+----------------+-------+------------+-------------+---------------+-----------+-----------+------+------+--------------+----------------+------------+-----------------+\n",
      "|customerID|Churn|      Contract|Dependents|DeviceProtection|InternetService|MultipleLines|OnlineBackup|OnlineSecurity|PaperlessBilling|Partner|PhoneService|SeniorCitizen|StreamingMovies|StreamingTV|TechSupport|gender|tenure|MonthlyCharges|   PaymentMethod|TotalCharges|bucketized_tenure|\n",
      "+----------+-----+--------------+----------+----------------+---------------+-------------+------------+--------------+----------------+-------+------------+-------------+---------------+-----------+-----------+------+------+--------------+----------------+------------+-----------------+\n",
      "|0002-ORFBO|   No|      One year|       Yes|              No|            DSL|           No|         Yes|            No|             Yes|    Yes|         Yes|           No|             No|        Yes|        Yes|Female|     9|          65.6|    Mailed check|       593.3|              0.0|\n",
      "|0003-MKNFE|   No|Month-to-month|        No|              No|            DSL|          Yes|          No|            No|              No|     No|         Yes|           No|            Yes|         No|         No|  Male|     9|          59.9|    Mailed check|       542.4|              0.0|\n",
      "|0004-TLHLJ|  Yes|Month-to-month|        No|             Yes|    Fiber optic|           No|          No|            No|             Yes|     No|         Yes|           No|             No|         No|         No|  Male|     4|          73.9|Electronic check|      280.85|              0.0|\n",
      "|0011-IGKFF|  Yes|Month-to-month|        No|             Yes|    Fiber optic|           No|         Yes|            No|             Yes|    Yes|         Yes|          Yes|            Yes|        Yes|         No|  Male|    13|          98.0|Electronic check|     1237.85|              1.0|\n",
      "+----------+-----+--------------+----------+----------------+---------------+-------------+------------+--------------+----------------+-------+------------+-------------+---------------+-----------+-----------+------+------+--------------+----------------+------------+-----------------+\n",
      "only showing top 4 rows\n",
      "\n"
     ]
    }
   ],
   "source": [
    "combined_df.show(4)"
   ]
  },
  {
   "cell_type": "code",
   "execution_count": 0,
   "metadata": {
    "colab": {
     "base_uri": "https://localhost:8080/",
     "height": 221
    },
    "colab_type": "code",
    "id": "Z_c2urUl-HoD",
    "outputId": "a13c2ec5-83ba-40c4-eaae-a92304b62ac3"
   },
   "outputs": [
    {
     "name": "stdout",
     "output_type": "stream",
     "text": [
      "+-----------------+\n",
      "|bucketized_tenure|\n",
      "+-----------------+\n",
      "|              0.0|\n",
      "|              1.0|\n",
      "|              4.0|\n",
      "|              3.0|\n",
      "|              2.0|\n",
      "|              6.0|\n",
      "|              5.0|\n",
      "+-----------------+\n",
      "\n"
     ]
    }
   ],
   "source": [
    "combined_df.select('bucketized_tenure').distinct().show()"
   ]
  },
  {
   "cell_type": "markdown",
   "metadata": {
    "colab_type": "text",
    "id": "BQBe1z25AwIw"
   },
   "source": [
    "### Add/Derive a new column ‘tenure_group’ from the above ‘bucketized_tenure’ column as below, using either broadcast join or udf.\n",
    "\n",
    "Map the 7 values 0.0 to 0.6 as below\n",
    "* 0.0 as tenure_0-10\n",
    "* 1.0 as tenure_10-20\n",
    "* 2.0 as tenure_20-30\n",
    "* 3.0 as tenure_30-40\n",
    "* 4.0 as tenure_40-50\n",
    "* 5.0 as tenure_50-60\n",
    "* 6.0 as tenure_60-and-above"
   ]
  },
  {
   "cell_type": "markdown",
   "metadata": {
    "colab_type": "text",
    "id": "SbekBMYWA98G"
   },
   "source": [
    "** Using broadcase join"
   ]
  },
  {
   "cell_type": "code",
   "execution_count": 0,
   "metadata": {
    "colab": {
     "base_uri": "https://localhost:8080/",
     "height": 221
    },
    "colab_type": "code",
    "id": "Oh9Ou1BJA_vk",
    "outputId": "8ee47ab3-b267-4aac-cef4-ee4b173289e6"
   },
   "outputs": [
    {
     "name": "stdout",
     "output_type": "stream",
     "text": [
      "+-----------------+-------------------+\n",
      "|bucketized_tenure|       tenure_group|\n",
      "+-----------------+-------------------+\n",
      "|              0.0|        tenure_0-10|\n",
      "|              1.0|       tenure_10-20|\n",
      "|              2.0|       tenure_20-30|\n",
      "|              3.0|       tenure_30-40|\n",
      "|              4.0|       tenure_40-50|\n",
      "|              5.0|       tenure_50-60|\n",
      "|              6.0|tenure_60-and-above|\n",
      "+-----------------+-------------------+\n",
      "\n"
     ]
    }
   ],
   "source": [
    "replacing_df = spark.createDataFrame([\n",
    "    (0.0, 'tenure_0-10'),\n",
    "    (1.0, 'tenure_10-20'),\n",
    "    (2.0, 'tenure_20-30'),\n",
    "    (3.0, 'tenure_30-40'),\n",
    "    (4.0, 'tenure_40-50'),\n",
    "    (5.0, 'tenure_50-60'),\n",
    "    (6.0, 'tenure_60-and-above')], ['bucketized_tenure', 'tenure_group'])\n",
    "\n",
    "replacing_df.show()"
   ]
  },
  {
   "cell_type": "code",
   "execution_count": 0,
   "metadata": {
    "colab": {},
    "colab_type": "code",
    "id": "_hm_7Y0IBB1w"
   },
   "outputs": [],
   "source": [
    "combined_df1 = combined_df.join(\n",
    "    F.broadcast(replacing_df), \"bucketized_tenure\")"
   ]
  },
  {
   "cell_type": "code",
   "execution_count": 0,
   "metadata": {
    "colab": {
     "base_uri": "https://localhost:8080/",
     "height": 187
    },
    "colab_type": "code",
    "id": "s6ssuhECBLHw",
    "outputId": "fc862f61-1edb-4130-9262-aa120c68a4e4"
   },
   "outputs": [
    {
     "name": "stdout",
     "output_type": "stream",
     "text": [
      "+------+-----------------+------------+\n",
      "|tenure|bucketized_tenure|tenure_group|\n",
      "+------+-----------------+------------+\n",
      "|     9|              0.0| tenure_0-10|\n",
      "|     9|              0.0| tenure_0-10|\n",
      "|     4|              0.0| tenure_0-10|\n",
      "|    13|              1.0|tenure_10-20|\n",
      "+------+-----------------+------------+\n",
      "only showing top 4 rows\n",
      "\n"
     ]
    }
   ],
   "source": [
    "combined_df1.select('tenure', 'bucketized_tenure', 'tenure_group').show(4)"
   ]
  },
  {
   "cell_type": "code",
   "execution_count": 0,
   "metadata": {
    "colab": {},
    "colab_type": "code",
    "id": "5mq_jDCWBNgF"
   },
   "outputs": [],
   "source": [
    "from pyspark.sql.types import *\n",
    "\n",
    "def replace_udf(column_value):\n",
    "    if   column_value == 0.0:\n",
    "        return 'tenure_0-10'\n",
    "    elif column_value == 1.0:\n",
    "        return 'tenure_10-20'\n",
    "    elif column_value == 2.0:\n",
    "        return 'tenure_20-30'\n",
    "    elif column_value == 3.0:\n",
    "        return 'tenure_30-40'\n",
    "    elif column_value == 4.0:\n",
    "        return 'tenure_40-50'\n",
    "    elif column_value == 5.0:\n",
    "        return 'tenure_50-60'\n",
    "    else:\n",
    "        return 'tenure_60-and-above'\n",
    "    \n",
    "from pyspark.sql.functions import udf\n",
    "    \n",
    "python_udf = udf(replace_udf)"
   ]
  },
  {
   "cell_type": "code",
   "execution_count": 0,
   "metadata": {
    "colab": {},
    "colab_type": "code",
    "id": "-fW9V6aeBTqv"
   },
   "outputs": [],
   "source": [
    "combined_df = combined_df.withColumn('tenure_group', \n",
    "                                     python_udf('bucketized_tenure'))"
   ]
  },
  {
   "cell_type": "code",
   "execution_count": 0,
   "metadata": {
    "colab": {
     "base_uri": "https://localhost:8080/",
     "height": 479
    },
    "colab_type": "code",
    "id": "GHgWwyh5BW3t",
    "outputId": "4377ded3-39d1-4fe2-917a-5e483cd52ded"
   },
   "outputs": [
    {
     "name": "stdout",
     "output_type": "stream",
     "text": [
      "+----------+-----+--------------+----------+-------------------+---------------+----------------+-------------------+-------------------+----------------+-------+------------+-------------+-------------------+-------------------+-------------------+------+------+--------------+--------------------+------------+-----------------+-------------------+\n",
      "|customerID|Churn|      Contract|Dependents|   DeviceProtection|InternetService|   MultipleLines|       OnlineBackup|     OnlineSecurity|PaperlessBilling|Partner|PhoneService|SeniorCitizen|    StreamingMovies|        StreamingTV|        TechSupport|gender|tenure|MonthlyCharges|       PaymentMethod|TotalCharges|bucketized_tenure|       tenure_group|\n",
      "+----------+-----+--------------+----------+-------------------+---------------+----------------+-------------------+-------------------+----------------+-------+------------+-------------+-------------------+-------------------+-------------------+------+------+--------------+--------------------+------------+-----------------+-------------------+\n",
      "|0002-ORFBO|   No|      One year|       Yes|                 No|            DSL|              No|                Yes|                 No|             Yes|    Yes|         Yes|           No|                 No|                Yes|                Yes|Female|     9|          65.6|        Mailed check|       593.3|              0.0|        tenure_0-10|\n",
      "|0003-MKNFE|   No|Month-to-month|        No|                 No|            DSL|             Yes|                 No|                 No|              No|     No|         Yes|           No|                Yes|                 No|                 No|  Male|     9|          59.9|        Mailed check|       542.4|              0.0|        tenure_0-10|\n",
      "|0004-TLHLJ|  Yes|Month-to-month|        No|                Yes|    Fiber optic|              No|                 No|                 No|             Yes|     No|         Yes|           No|                 No|                 No|                 No|  Male|     4|          73.9|    Electronic check|      280.85|              0.0|        tenure_0-10|\n",
      "|0011-IGKFF|  Yes|Month-to-month|        No|                Yes|    Fiber optic|              No|                Yes|                 No|             Yes|    Yes|         Yes|          Yes|                Yes|                Yes|                 No|  Male|    13|          98.0|    Electronic check|     1237.85|              1.0|       tenure_10-20|\n",
      "|0013-EXCHZ|  Yes|Month-to-month|        No|                 No|    Fiber optic|              No|                 No|                 No|             Yes|    Yes|         Yes|          Yes|                 No|                Yes|                Yes|Female|     3|          83.9|        Mailed check|       267.4|              0.0|        tenure_0-10|\n",
      "|0013-MHZWF|   No|Month-to-month|       Yes|                 No|            DSL|              No|                 No|                 No|             Yes|     No|         Yes|           No|                Yes|                Yes|                Yes|Female|     9|          69.4|Credit card (auto...|      571.45|              0.0|        tenure_0-10|\n",
      "|0013-SMEOE|   No|      Two year|        No|                Yes|    Fiber optic|              No|                Yes|                Yes|             Yes|    Yes|         Yes|          Yes|                Yes|                Yes|                Yes|Female|    71|         109.7|Bank transfer (au...|     7904.25|              6.0|tenure_60-and-above|\n",
      "|0014-BMAQU|   No|      Two year|        No|                 No|    Fiber optic|             Yes|                 No|                Yes|             Yes|    Yes|         Yes|           No|                 No|                 No|                Yes|  Male|    63|         84.65|Credit card (auto...|      5377.8|              6.0|tenure_60-and-above|\n",
      "|0015-UOCOJ|   No|Month-to-month|        No|                 No|            DSL|              No|                 No|                Yes|             Yes|     No|         Yes|          Yes|                 No|                 No|                 No|Female|     7|          48.2|    Electronic check|      340.35|              0.0|        tenure_0-10|\n",
      "|0016-QLJIS|   No|      Two year|       Yes|                Yes|            DSL|             Yes|                Yes|                Yes|             Yes|    Yes|         Yes|           No|                Yes|                Yes|                Yes|Female|    65|         90.45|        Mailed check|      5957.9|              6.0|tenure_60-and-above|\n",
      "|0017-DINOC|   No|      Two year|        No|                 No|            DSL|No phone service|                 No|                Yes|              No|     No|          No|           No|                 No|                Yes|                Yes|  Male|    54|          45.2|Credit card (auto...|     2460.55|              5.0|       tenure_50-60|\n",
      "|0017-IUDMW|   No|      Two year|       Yes|                Yes|    Fiber optic|             Yes|                Yes|                Yes|             Yes|    Yes|         Yes|           No|                Yes|                Yes|                Yes|Female|    72|         116.8|Credit card (auto...|     8456.75|              6.0|tenure_60-and-above|\n",
      "|0019-EFAEP|   No|      Two year|        No|                Yes|    Fiber optic|             Yes|                Yes|                Yes|             Yes|     No|         Yes|           No|                 No|                Yes|                 No|Female|    72|         101.3|Bank transfer (au...|     7261.25|              6.0|tenure_60-and-above|\n",
      "|0019-GFNTW|   No|      Two year|        No|                Yes|            DSL|No phone service|                Yes|                Yes|              No|     No|          No|           No|                 No|                 No|                Yes|Female|    56|         45.05|Bank transfer (au...|      2560.1|              5.0|       tenure_50-60|\n",
      "|0020-INWCK|   No|      Two year|       Yes|                Yes|    Fiber optic|             Yes|                Yes|                 No|             Yes|    Yes|         Yes|           No|                Yes|                 No|                 No|Female|    71|         95.75|Credit card (auto...|      6849.4|              6.0|tenure_60-and-above|\n",
      "|0020-JDNXP|   No|      One year|       Yes|                Yes|            DSL|No phone service|                 No|                Yes|              No|    Yes|          No|           No|                Yes|                Yes|                Yes|Female|    34|         61.25|        Mailed check|      1993.2|              3.0|       tenure_30-40|\n",
      "|0021-IKXGC|   No|Month-to-month|        No|                 No|    Fiber optic|             Yes|                 No|                 No|             Yes|     No|         Yes|          Yes|                 No|                 No|                 No|Female|     1|          72.1|    Electronic check|        72.1|              0.0|        tenure_0-10|\n",
      "|0022-TCJCI|  Yes|      One year|        No|                Yes|            DSL|              No|                 No|                Yes|              No|     No|         Yes|          Yes|                Yes|                 No|                 No|  Male|    45|          62.7|Credit card (auto...|      2791.5|              4.0|       tenure_40-50|\n",
      "|0023-UYUPN|   No|      One year|        No|No internet service|             No|             Yes|No internet service|No internet service|              No|    Yes|         Yes|          Yes|No internet service|No internet service|No internet service|Female|    50|          25.2|    Electronic check|      1306.3|              4.0|       tenure_40-50|\n",
      "|0023-XUOPT|  Yes|Month-to-month|        No|                Yes|    Fiber optic|             Yes|                Yes|                 No|              No|    Yes|         Yes|           No|                 No|                Yes|                 No|Female|    13|          94.1|    Electronic check|      1215.6|              1.0|       tenure_10-20|\n",
      "+----------+-----+--------------+----------+-------------------+---------------+----------------+-------------------+-------------------+----------------+-------+------------+-------------+-------------------+-------------------+-------------------+------+------+--------------+--------------------+------------+-----------------+-------------------+\n",
      "only showing top 20 rows\n",
      "\n"
     ]
    }
   ],
   "source": [
    "combined_df.show()"
   ]
  },
  {
   "cell_type": "code",
   "execution_count": 0,
   "metadata": {
    "colab": {},
    "colab_type": "code",
    "id": "0M9-9vdGBe_F"
   },
   "outputs": [],
   "source": [
    "combined_df = combined_df.drop('bucketized_tenure')"
   ]
  },
  {
   "cell_type": "code",
   "execution_count": 0,
   "metadata": {
    "colab": {
     "base_uri": "https://localhost:8080/",
     "height": 391
    },
    "colab_type": "code",
    "id": "GHjW_K08Bkp0",
    "outputId": "d43b5c72-0a28-4322-cb91-d73431030f56"
   },
   "outputs": [
    {
     "data": {
      "text/plain": [
       "['customerID',\n",
       " 'Churn',\n",
       " 'Contract',\n",
       " 'Dependents',\n",
       " 'DeviceProtection',\n",
       " 'InternetService',\n",
       " 'MultipleLines',\n",
       " 'OnlineBackup',\n",
       " 'OnlineSecurity',\n",
       " 'PaperlessBilling',\n",
       " 'Partner',\n",
       " 'PhoneService',\n",
       " 'SeniorCitizen',\n",
       " 'StreamingMovies',\n",
       " 'StreamingTV',\n",
       " 'TechSupport',\n",
       " 'gender',\n",
       " 'tenure',\n",
       " 'MonthlyCharges',\n",
       " 'PaymentMethod',\n",
       " 'TotalCharges',\n",
       " 'tenure_group']"
      ]
     },
     "execution_count": 41,
     "metadata": {
      "tags": []
     },
     "output_type": "execute_result"
    }
   ],
   "source": [
    "combined_df.columns"
   ]
  },
  {
   "cell_type": "code",
   "execution_count": 0,
   "metadata": {
    "colab": {
     "base_uri": "https://localhost:8080/",
     "height": 221
    },
    "colab_type": "code",
    "id": "uf38syvHBmoF",
    "outputId": "1b8e523a-c1a9-432b-d430-abe1f85c68e7"
   },
   "outputs": [
    {
     "name": "stdout",
     "output_type": "stream",
     "text": [
      "+-------------------+----+---+\n",
      "| tenure_group_Churn|  No|Yes|\n",
      "+-------------------+----+---+\n",
      "|       tenure_10-20| 552|253|\n",
      "|       tenure_20-30| 529|160|\n",
      "|       tenure_30-40| 461|124|\n",
      "|       tenure_50-60| 545| 91|\n",
      "|tenure_60-and-above|1187| 83|\n",
      "|       tenure_40-50| 480|103|\n",
      "|        tenure_0-10| 887|845|\n",
      "+-------------------+----+---+\n",
      "\n"
     ]
    }
   ],
   "source": [
    "result_df = combined_df.crosstab('tenure_group', 'Churn')\n",
    "result_df.show()"
   ]
  },
  {
   "cell_type": "markdown",
   "metadata": {
    "colab_type": "text",
    "id": "wyvwth41Ctxn"
   },
   "source": [
    "## Identify the categorical and numerical columns.\n",
    "* Note.\n",
    "    * customerID is unique identifier of each customer.\n",
    "    * Churn – Whether the customer Churn or NOT (Target attribute)."
   ]
  },
  {
   "cell_type": "code",
   "execution_count": 0,
   "metadata": {
    "colab": {},
    "colab_type": "code",
    "id": "OlfGObakC34M"
   },
   "outputs": [],
   "source": [
    "id_col = ['customerID']\n",
    "target_col = ['Churn']"
   ]
  },
  {
   "cell_type": "code",
   "execution_count": 0,
   "metadata": {
    "colab": {
     "base_uri": "https://localhost:8080/",
     "height": 391
    },
    "colab_type": "code",
    "id": "bdljgcyMC7_d",
    "outputId": "a78209db-477d-4d39-fefa-b34276f463ad"
   },
   "outputs": [
    {
     "data": {
      "text/plain": [
       "[('customerID', 'string'),\n",
       " ('Churn', 'string'),\n",
       " ('Contract', 'string'),\n",
       " ('Dependents', 'string'),\n",
       " ('DeviceProtection', 'string'),\n",
       " ('InternetService', 'string'),\n",
       " ('MultipleLines', 'string'),\n",
       " ('OnlineBackup', 'string'),\n",
       " ('OnlineSecurity', 'string'),\n",
       " ('PaperlessBilling', 'string'),\n",
       " ('Partner', 'string'),\n",
       " ('PhoneService', 'string'),\n",
       " ('SeniorCitizen', 'string'),\n",
       " ('StreamingMovies', 'string'),\n",
       " ('StreamingTV', 'string'),\n",
       " ('TechSupport', 'string'),\n",
       " ('gender', 'string'),\n",
       " ('tenure', 'bigint'),\n",
       " ('MonthlyCharges', 'double'),\n",
       " ('PaymentMethod', 'string'),\n",
       " ('TotalCharges', 'double'),\n",
       " ('tenure_group', 'string')]"
      ]
     },
     "execution_count": 44,
     "metadata": {
      "tags": []
     },
     "output_type": "execute_result"
    }
   ],
   "source": [
    "dtypes_list = combined_df.dtypes\n",
    "dtypes_list"
   ]
  },
  {
   "cell_type": "code",
   "execution_count": 0,
   "metadata": {
    "colab": {},
    "colab_type": "code",
    "id": "ImS9A8PHC-fl"
   },
   "outputs": [],
   "source": [
    "cat_cols = [each_val[0] for each_val in dtypes_list\n",
    "            if each_val[1] == 'string' and\n",
    "               each_val[0] not in id_col + target_col]"
   ]
  },
  {
   "cell_type": "code",
   "execution_count": 0,
   "metadata": {
    "colab": {
     "base_uri": "https://localhost:8080/",
     "height": 306
    },
    "colab_type": "code",
    "id": "1K_2xP-xNBub",
    "outputId": "3d018f76-e941-4f78-d8e5-dfde7d83bd53"
   },
   "outputs": [
    {
     "data": {
      "text/plain": [
       "['Contract',\n",
       " 'Dependents',\n",
       " 'DeviceProtection',\n",
       " 'InternetService',\n",
       " 'MultipleLines',\n",
       " 'OnlineBackup',\n",
       " 'OnlineSecurity',\n",
       " 'PaperlessBilling',\n",
       " 'Partner',\n",
       " 'PhoneService',\n",
       " 'SeniorCitizen',\n",
       " 'StreamingMovies',\n",
       " 'StreamingTV',\n",
       " 'TechSupport',\n",
       " 'gender',\n",
       " 'PaymentMethod',\n",
       " 'tenure_group']"
      ]
     },
     "execution_count": 64,
     "metadata": {
      "tags": []
     },
     "output_type": "execute_result"
    }
   ],
   "source": [
    "cat_cols"
   ]
  },
  {
   "cell_type": "code",
   "execution_count": 0,
   "metadata": {
    "colab": {},
    "colab_type": "code",
    "id": "E4GElshFDPOS"
   },
   "outputs": [],
   "source": [
    "num_cols = [each_col for each_col in combined_df.columns\n",
    "               if each_col not in id_col + target_col + cat_cols]"
   ]
  },
  {
   "cell_type": "code",
   "execution_count": 0,
   "metadata": {
    "colab": {},
    "colab_type": "code",
    "id": "lEonaS0SDSSy"
   },
   "outputs": [],
   "source": [
    "combined_df = combined_df.drop('tenure_group')"
   ]
  },
  {
   "cell_type": "code",
   "execution_count": 0,
   "metadata": {
    "colab": {
     "base_uri": "https://localhost:8080/",
     "height": 289
    },
    "colab_type": "code",
    "id": "0BffBE1sNI9t",
    "outputId": "003d1f85-3cbc-4166-c888-06284fee5127"
   },
   "outputs": [
    {
     "data": {
      "text/plain": [
       "['Contract',\n",
       " 'Dependents',\n",
       " 'DeviceProtection',\n",
       " 'InternetService',\n",
       " 'MultipleLines',\n",
       " 'OnlineBackup',\n",
       " 'OnlineSecurity',\n",
       " 'PaperlessBilling',\n",
       " 'Partner',\n",
       " 'PhoneService',\n",
       " 'SeniorCitizen',\n",
       " 'StreamingMovies',\n",
       " 'StreamingTV',\n",
       " 'TechSupport',\n",
       " 'gender',\n",
       " 'PaymentMethod']"
      ]
     },
     "execution_count": 65,
     "metadata": {
      "tags": []
     },
     "output_type": "execute_result"
    }
   ],
   "source": [
    "cat_cols = cat_cols[:-1]\n",
    "cat_cols"
   ]
  },
  {
   "cell_type": "code",
   "execution_count": 0,
   "metadata": {
    "colab": {},
    "colab_type": "code",
    "id": "tcB_zpEfDYPr"
   },
   "outputs": [],
   "source": [
    "combined_df = combined_df.withColumn(\n",
    "    'label',\n",
    "    F.when(F.col('Churn') == 'No', 0.0).otherwise(1.0))"
   ]
  },
  {
   "cell_type": "code",
   "execution_count": 0,
   "metadata": {
    "colab": {
     "base_uri": "https://localhost:8080/",
     "height": 391
    },
    "colab_type": "code",
    "id": "eXYj4006Dc8h",
    "outputId": "544e8f79-eda6-441a-abcb-0e34cb9792db"
   },
   "outputs": [
    {
     "data": {
      "text/plain": [
       "[('customerID', 'string'),\n",
       " ('Churn', 'string'),\n",
       " ('Contract', 'string'),\n",
       " ('Dependents', 'string'),\n",
       " ('DeviceProtection', 'string'),\n",
       " ('InternetService', 'string'),\n",
       " ('MultipleLines', 'string'),\n",
       " ('OnlineBackup', 'string'),\n",
       " ('OnlineSecurity', 'string'),\n",
       " ('PaperlessBilling', 'string'),\n",
       " ('Partner', 'string'),\n",
       " ('PhoneService', 'string'),\n",
       " ('SeniorCitizen', 'string'),\n",
       " ('StreamingMovies', 'string'),\n",
       " ('StreamingTV', 'string'),\n",
       " ('TechSupport', 'string'),\n",
       " ('gender', 'string'),\n",
       " ('tenure', 'bigint'),\n",
       " ('MonthlyCharges', 'double'),\n",
       " ('PaymentMethod', 'string'),\n",
       " ('TotalCharges', 'double'),\n",
       " ('label', 'double')]"
      ]
     },
     "execution_count": 49,
     "metadata": {
      "tags": []
     },
     "output_type": "execute_result"
    }
   ],
   "source": [
    "combined_df.dtypes"
   ]
  },
  {
   "cell_type": "code",
   "execution_count": 0,
   "metadata": {
    "colab": {},
    "colab_type": "code",
    "id": "F7g6kmjmDg1H"
   },
   "outputs": [],
   "source": [
    "combined_df = combined_df.drop('Churn')"
   ]
  },
  {
   "cell_type": "markdown",
   "metadata": {
    "colab_type": "text",
    "id": "HSghICM9KRzl"
   },
   "source": [
    "## Pipelines"
   ]
  },
  {
   "cell_type": "markdown",
   "metadata": {
    "colab_type": "text",
    "id": "-KgSOp7IKepC"
   },
   "source": [
    "### Define SparkML pipelines\n",
    "Stages\n",
    "  * Preprocessing\n",
    "  * Model Building & Evaluation\n",
    "Define the SparkMl Pipelines for the preprocessing stages as below.\n",
    "  1. Combine all the numerical columns as vector (VectorAssembler for numerical columns)\n",
    "  2. Standardize the values in the above vector using StandardScaler available in pyspark.ml.feature\n",
    "  3. StringIndexer and OneHotEncoderEstimator for the categorical columns.\n",
    "  4. Combine all the above vectors created by OneHotEncoderEstimator as a single vector. (VectorAssembler for categorical col vectors)\n",
    "  5. Combine both the scaled numerical vector and combined categorical vectors (for the vectors obtained in ii and iv using VectorAssembler.\n",
    "\n"
   ]
  },
  {
   "cell_type": "code",
   "execution_count": 0,
   "metadata": {
    "colab": {},
    "colab_type": "code",
    "id": "bbWC0FWoLFmQ"
   },
   "outputs": [],
   "source": [
    "from pyspark.ml.feature import VectorAssembler\n",
    "\n",
    "num_cols_assembler = VectorAssembler(inputCols = num_cols,\n",
    "                                     outputCol = 'num_cols_vector')"
   ]
  },
  {
   "cell_type": "code",
   "execution_count": 0,
   "metadata": {
    "colab": {},
    "colab_type": "code",
    "id": "1l3BNXMDMSxP"
   },
   "outputs": [],
   "source": [
    "from pyspark.ml.feature import StandardScaler\n",
    "\n",
    "num_cols_standardizer = StandardScaler(inputCol = 'num_cols_vector',\n",
    "                                       outputCol = 'scaled_num_features',\n",
    "                                       withStd = True, withMean = True)"
   ]
  },
  {
   "cell_type": "code",
   "execution_count": 0,
   "metadata": {
    "colab": {},
    "colab_type": "code",
    "id": "M-PIzIdqMVfR"
   },
   "outputs": [],
   "source": [
    "from pyspark.ml.feature import StringIndexer, OneHotEncoderEstimator\n",
    "\n",
    "encoding_stages = []\n",
    "\n",
    "for each_col in cat_cols:\n",
    "    # Category indexing using sting indexer\n",
    "    stringIndexer = StringIndexer(\n",
    "        inputCol = each_col, outputCol = each_col + 'Index')\n",
    "\n",
    "    # Use OneHotEncoder to convert categorical variables into binary SparseVectors\n",
    "    oneHotEncoder = OneHotEncoderEstimator(\n",
    "        inputCols=[stringIndexer.getOutputCol()],\n",
    "        outputCols=[each_col + 'classVector'],\n",
    "        handleInvalid='keep')\n",
    "    \n",
    "    # Add stages.  These are not run here, but will run all at once later on.\n",
    "    encoding_stages += [stringIndexer, oneHotEncoder]"
   ]
  },
  {
   "cell_type": "code",
   "execution_count": 0,
   "metadata": {
    "colab": {
     "base_uri": "https://localhost:8080/",
     "height": 561
    },
    "colab_type": "code",
    "id": "E5FsL715MYD6",
    "outputId": "4223e5e3-01a2-4e85-f9fc-bc1a197c1620"
   },
   "outputs": [
    {
     "data": {
      "text/plain": [
       "[StringIndexer_07d3c0718ad6,\n",
       " OneHotEncoderEstimator_1c16ec8f8e6c,\n",
       " StringIndexer_f594ceee29fb,\n",
       " OneHotEncoderEstimator_465ffe67b8c1,\n",
       " StringIndexer_9dcb13c15635,\n",
       " OneHotEncoderEstimator_7ddb5c72e6ff,\n",
       " StringIndexer_22245c37aa11,\n",
       " OneHotEncoderEstimator_7f4b40f62cda,\n",
       " StringIndexer_5ea9978dbcd1,\n",
       " OneHotEncoderEstimator_0182290a8ab9,\n",
       " StringIndexer_51e19ebae141,\n",
       " OneHotEncoderEstimator_db12f8a2ccc0,\n",
       " StringIndexer_f94d912f708b,\n",
       " OneHotEncoderEstimator_338cbabe7660,\n",
       " StringIndexer_86eecf2b6d84,\n",
       " OneHotEncoderEstimator_f7a0d785e777,\n",
       " StringIndexer_26ed15ec53a3,\n",
       " OneHotEncoderEstimator_3eaf8326e1aa,\n",
       " StringIndexer_826fcaec8528,\n",
       " OneHotEncoderEstimator_3674a1287195,\n",
       " StringIndexer_64784358b353,\n",
       " OneHotEncoderEstimator_72d83293f9b4,\n",
       " StringIndexer_0fcb4da70e9a,\n",
       " OneHotEncoderEstimator_ffa08cd6ce93,\n",
       " StringIndexer_f32f3665d416,\n",
       " OneHotEncoderEstimator_25c98cac92a5,\n",
       " StringIndexer_e49f26f1ab76,\n",
       " OneHotEncoderEstimator_26139c26ad66,\n",
       " StringIndexer_e42976355912,\n",
       " OneHotEncoderEstimator_101dbc94e621,\n",
       " StringIndexer_cccbc2046a73,\n",
       " OneHotEncoderEstimator_ec300972c5cc]"
      ]
     },
     "execution_count": 70,
     "metadata": {
      "tags": []
     },
     "output_type": "execute_result"
    }
   ],
   "source": [
    "encoding_stages"
   ]
  },
  {
   "cell_type": "code",
   "execution_count": 0,
   "metadata": {
    "colab": {},
    "colab_type": "code",
    "id": "-9rOphnvMZzH"
   },
   "outputs": [],
   "source": [
    "cat_cols_vectors_list = [col + 'classVector' for col in cat_cols]\n",
    "cat_vecs_assembler = VectorAssembler(inputCols = cat_cols_vectors_list,\n",
    "                                     outputCol = 'cat_cols_vector')"
   ]
  },
  {
   "cell_type": "code",
   "execution_count": 0,
   "metadata": {
    "colab": {},
    "colab_type": "code",
    "id": "5YKRv4q5MdU4"
   },
   "outputs": [],
   "source": [
    "assembler_all_features = VectorAssembler(\n",
    "    inputCols=['scaled_num_features', 'cat_cols_vector'], outputCol='features')"
   ]
  },
  {
   "cell_type": "code",
   "execution_count": 0,
   "metadata": {
    "colab": {},
    "colab_type": "code",
    "id": "ZxmSu5DaMf52"
   },
   "outputs": [],
   "source": [
    "pre_processing_stages = [num_cols_assembler] + \\\n",
    "                        [num_cols_standardizer] + \\\n",
    "                        encoding_stages + \\\n",
    "                        [cat_vecs_assembler] + \\\n",
    "                        [assembler_all_features]"
   ]
  },
  {
   "cell_type": "code",
   "execution_count": 0,
   "metadata": {
    "colab": {
     "base_uri": "https://localhost:8080/",
     "height": 629
    },
    "colab_type": "code",
    "id": "G32LBRToMtdc",
    "outputId": "76aaac15-df6d-4ca0-c399-274da2e4c34a"
   },
   "outputs": [
    {
     "data": {
      "text/plain": [
       "[VectorAssembler_585cff5c3188,\n",
       " StandardScaler_4a2c94481845,\n",
       " StringIndexer_07d3c0718ad6,\n",
       " OneHotEncoderEstimator_1c16ec8f8e6c,\n",
       " StringIndexer_f594ceee29fb,\n",
       " OneHotEncoderEstimator_465ffe67b8c1,\n",
       " StringIndexer_9dcb13c15635,\n",
       " OneHotEncoderEstimator_7ddb5c72e6ff,\n",
       " StringIndexer_22245c37aa11,\n",
       " OneHotEncoderEstimator_7f4b40f62cda,\n",
       " StringIndexer_5ea9978dbcd1,\n",
       " OneHotEncoderEstimator_0182290a8ab9,\n",
       " StringIndexer_51e19ebae141,\n",
       " OneHotEncoderEstimator_db12f8a2ccc0,\n",
       " StringIndexer_f94d912f708b,\n",
       " OneHotEncoderEstimator_338cbabe7660,\n",
       " StringIndexer_86eecf2b6d84,\n",
       " OneHotEncoderEstimator_f7a0d785e777,\n",
       " StringIndexer_26ed15ec53a3,\n",
       " OneHotEncoderEstimator_3eaf8326e1aa,\n",
       " StringIndexer_826fcaec8528,\n",
       " OneHotEncoderEstimator_3674a1287195,\n",
       " StringIndexer_64784358b353,\n",
       " OneHotEncoderEstimator_72d83293f9b4,\n",
       " StringIndexer_0fcb4da70e9a,\n",
       " OneHotEncoderEstimator_ffa08cd6ce93,\n",
       " StringIndexer_f32f3665d416,\n",
       " OneHotEncoderEstimator_25c98cac92a5,\n",
       " StringIndexer_e49f26f1ab76,\n",
       " OneHotEncoderEstimator_26139c26ad66,\n",
       " StringIndexer_e42976355912,\n",
       " OneHotEncoderEstimator_101dbc94e621,\n",
       " StringIndexer_cccbc2046a73,\n",
       " OneHotEncoderEstimator_ec300972c5cc,\n",
       " VectorAssembler_d86d0e2f53fe,\n",
       " VectorAssembler_6ec0b4f5b2e7]"
      ]
     },
     "execution_count": 74,
     "metadata": {
      "tags": []
     },
     "output_type": "execute_result"
    }
   ],
   "source": [
    "pre_processing_stages"
   ]
  },
  {
   "cell_type": "code",
   "execution_count": 0,
   "metadata": {
    "colab": {
     "base_uri": "https://localhost:8080/",
     "height": 54
    },
    "colab_type": "code",
    "id": "dEHAwib3MwXj",
    "outputId": "ba91436d-62be-43f6-f220-c8bed3d0ffea"
   },
   "outputs": [
    {
     "data": {
      "text/plain": [
       "DataFrame[customerID: string, Contract: string, Dependents: string, DeviceProtection: string, InternetService: string, MultipleLines: string, OnlineBackup: string, OnlineSecurity: string, PaperlessBilling: string, Partner: string, PhoneService: string, SeniorCitizen: string, StreamingMovies: string, StreamingTV: string, TechSupport: string, gender: string, tenure: bigint, MonthlyCharges: double, PaymentMethod: string, TotalCharges: double, label: double, num_cols_vector: vector, scaled_num_features: vector, ContractIndex: double, ContractclassVector: vector, DependentsIndex: double, DependentsclassVector: vector, DeviceProtectionIndex: double, DeviceProtectionclassVector: vector, InternetServiceIndex: double, InternetServiceclassVector: vector, MultipleLinesIndex: double, MultipleLinesclassVector: vector, OnlineBackupIndex: double, OnlineBackupclassVector: vector, OnlineSecurityIndex: double, OnlineSecurityclassVector: vector, PaperlessBillingIndex: double, PaperlessBillingclassVector: vector, PartnerIndex: double, PartnerclassVector: vector, PhoneServiceIndex: double, PhoneServiceclassVector: vector, SeniorCitizenIndex: double, SeniorCitizenclassVector: vector, StreamingMoviesIndex: double, StreamingMoviesclassVector: vector, StreamingTVIndex: double, StreamingTVclassVector: vector, TechSupportIndex: double, TechSupportclassVector: vector, genderIndex: double, genderclassVector: vector, PaymentMethodIndex: double, PaymentMethodclassVector: vector, cat_cols_vector: vector, features: vector]"
      ]
     },
     "execution_count": 75,
     "metadata": {
      "tags": []
     },
     "output_type": "execute_result"
    }
   ],
   "source": [
    "from pyspark.ml import Pipeline\n",
    "\n",
    "partialPipeLine = Pipeline().setStages(pre_processing_stages)\n",
    "pipelineModel = partialPipeLine.fit(combined_df)\n",
    "prepped_data_df = pipelineModel.transform(combined_df)\n",
    "prepped_data_df.cache()"
   ]
  },
  {
   "cell_type": "code",
   "execution_count": 0,
   "metadata": {
    "colab": {
     "base_uri": "https://localhost:8080/",
     "height": 190
    },
    "colab_type": "code",
    "id": "pKlzX-QbM0_6",
    "outputId": "23650e22-084f-4673-9571-fc86e1d5e474"
   },
   "outputs": [
    {
     "name": "stdout",
     "output_type": "stream",
     "text": [
      "+-----+----------------------------------------------------------------------------------------------------------------------------------------------------------------------------------------+\n",
      "|label|features                                                                                                                                                                                |\n",
      "+-----+----------------------------------------------------------------------------------------------------------------------------------------------------------------------------------------+\n",
      "|0.0  |(46,[0,1,2,5,7,8,12,14,18,20,23,26,27,29,31,35,38,41,43],[-0.9640259084652045,0.024022318899511584,-0.7534155676632999,1.0,1.0,1.0,1.0,1.0,1.0,1.0,1.0,1.0,1.0,1.0,1.0,1.0,1.0,1.0,1.0])|\n",
      "|0.0  |(46,[0,1,2,3,6,8,12,15,17,20,24,25,27,29,32,34,37,40,43],[-0.9640259084652045,-0.16557129678453888,-0.7758451061827129,1.0,1.0,1.0,1.0,1.0,1.0,1.0,1.0,1.0,1.0,1.0,1.0,1.0,1.0,1.0,1.0])|\n",
      "|1.0  |(46,[0,1,2,3,6,9,11,14,17,20,23,25,27,29,31,34,37,40,42],[-1.1679121453166468,0.3000972329657611,-0.8910994440953355,1.0,1.0,1.0,1.0,1.0,1.0,1.0,1.0,1.0,1.0,1.0,1.0,1.0,1.0,1.0,1.0])  |\n",
      "+-----+----------------------------------------------------------------------------------------------------------------------------------------------------------------------------------------+\n",
      "only showing top 3 rows\n",
      "\n"
     ]
    }
   ],
   "source": [
    "prepped_data_df.select('label', 'features').show(3,truncate=False)"
   ]
  },
  {
   "cell_type": "code",
   "execution_count": 0,
   "metadata": {
    "colab": {
     "base_uri": "https://localhost:8080/",
     "height": 34
    },
    "colab_type": "code",
    "id": "U3i2SIkKN9hm",
    "outputId": "9ac78caa-8c87-4dac-efd0-e4f69d1cfd22"
   },
   "outputs": [
    {
     "name": "stdout",
     "output_type": "stream",
     "text": [
      "There are 4381 training examples and 1919 test examples.\n"
     ]
    }
   ],
   "source": [
    "train, validation = combined_df.randomSplit([0.7, 0.3])\n",
    "print(\"There are %d training examples and %d test examples.\" %\n",
    "      (train.count(), validation.count()))"
   ]
  },
  {
   "cell_type": "code",
   "execution_count": 0,
   "metadata": {
    "colab": {},
    "colab_type": "code",
    "id": "KDMMmr4oNrKw"
   },
   "outputs": [],
   "source": [
    "from pyspark.ml.classification import LogisticRegression\n",
    "\n",
    "lr = LogisticRegression(maxIter=10, labelCol=\"label\", featuresCol=\"features\")"
   ]
  },
  {
   "cell_type": "code",
   "execution_count": 0,
   "metadata": {
    "colab": {},
    "colab_type": "code",
    "id": "hk-D-dnYNyU5"
   },
   "outputs": [],
   "source": [
    "from pyspark.ml import Pipeline\n",
    "\n",
    "lr_Pipeline = Pipeline(stages=pre_processing_stages+[lr])\n",
    "\n",
    "lr_Pipeline_model = lr_Pipeline.fit(train)"
   ]
  },
  {
   "cell_type": "code",
   "execution_count": 0,
   "metadata": {
    "colab": {},
    "colab_type": "code",
    "id": "KJOmxvQoN1CM"
   },
   "outputs": [],
   "source": [
    "model_lr = lr_Pipeline_model.stages[-1]"
   ]
  },
  {
   "cell_type": "code",
   "execution_count": 0,
   "metadata": {
    "colab": {
     "base_uri": "https://localhost:8080/",
     "height": 54
    },
    "colab_type": "code",
    "id": "AGqTmNauOGHm",
    "outputId": "836430cd-c7ec-4c6f-eb32-5f72eba5ef7a"
   },
   "outputs": [
    {
     "data": {
      "text/plain": [
       "DenseVector([-0.43, 0.1155, -0.241, 0.6132, -0.6281, -0.3499, 0.0136, -0.1102, 0.018, -0.0181, -0.1213, 0.3973, -0.4306, -0.1213, -0.1795, 0.084, 0.0476, 0.1383, -0.1486, -0.1213, 0.2382, -0.2867, -0.1213, 0.0715, -0.1553, -0.0185, -0.0621, -0.2751, 0.0476, -0.2063, 0.0588, 0.1508, -0.1498, -0.1213, 0.2005, -0.1996, -0.1213, 0.1556, -0.1882, -0.1213, -0.0678, -0.0126, 0.2964, -0.0371, -0.2632, -0.209])"
      ]
     },
     "execution_count": 82,
     "metadata": {
      "tags": []
     },
     "output_type": "execute_result"
    }
   ],
   "source": [
    "model_lr.coefficients"
   ]
  },
  {
   "cell_type": "code",
   "execution_count": 0,
   "metadata": {
    "colab": {},
    "colab_type": "code",
    "id": "PAWWUwh4OIEm"
   },
   "outputs": [],
   "source": [
    "train_predictions_lr = lr_Pipeline_model.transform(train)\n",
    "test_predictions_lr = lr_Pipeline_model.transform(validation)"
   ]
  },
  {
   "cell_type": "code",
   "execution_count": 0,
   "metadata": {
    "colab": {
     "base_uri": "https://localhost:8080/",
     "height": 85
    },
    "colab_type": "code",
    "id": "F4fa-j-kOL6A",
    "outputId": "1fe40acb-9ab2-4742-f8a1-58e7fb8aafaf"
   },
   "outputs": [
    {
     "name": "stdout",
     "output_type": "stream",
     "text": [
      "Train set accuracy  = 0.8016434603971696\n",
      "Train Error = 0.198357\n",
      "Test set accuracy = 0.8014590932777488\n",
      "Test Error = 0.198541\n"
     ]
    }
   ],
   "source": [
    "from pyspark.ml.evaluation import MulticlassClassificationEvaluator\n",
    "predictionAndLabels_train_lr = train_predictions_lr.select(\"prediction\", \n",
    "                                                           \"label\")\n",
    "evaluator = MulticlassClassificationEvaluator(metricName=\"accuracy\")\n",
    "train_accuracy_lr = evaluator.evaluate(predictionAndLabels_train_lr)\n",
    "print(\"Train set accuracy  = \" + str(train_accuracy_lr))\n",
    "print(\"Train Error = %g\" % (1.0 - train_accuracy_lr))\n",
    "\n",
    "predictionAndLabels_test_lr = test_predictions_lr.select(\"prediction\", \"label\")\n",
    "test_accuracy_lr = evaluator.evaluate(predictionAndLabels_test_lr)\n",
    "print(\"Test set accuracy = \" + str(test_accuracy_lr))\n",
    "print(\"Test Error = %g\" % (1.0 - test_accuracy_lr))"
   ]
  },
  {
   "cell_type": "code",
   "execution_count": 0,
   "metadata": {
    "colab": {},
    "colab_type": "code",
    "id": "X0bVaU6DOY-4"
   },
   "outputs": [],
   "source": [
    "from pyspark.ml.classification import DecisionTreeClassifier\n",
    "dt = DecisionTreeClassifier(labelCol=\"label\", featuresCol=\"features\")"
   ]
  },
  {
   "cell_type": "code",
   "execution_count": 0,
   "metadata": {
    "colab": {},
    "colab_type": "code",
    "id": "HM_HhqzJOkS1"
   },
   "outputs": [],
   "source": [
    "dt_Pipeline = Pipeline(stages=pre_processing_stages+[dt]) \n",
    "\n",
    "dt_Pipeline_model = dt_Pipeline.fit(train)"
   ]
  },
  {
   "cell_type": "code",
   "execution_count": 0,
   "metadata": {
    "colab": {},
    "colab_type": "code",
    "id": "mH6QdW50OmKm"
   },
   "outputs": [],
   "source": [
    "train_predictions_dt = dt_Pipeline_model.transform(train)\n",
    "test_predictions_dt = dt_Pipeline_model.transform(validation)"
   ]
  },
  {
   "cell_type": "code",
   "execution_count": 0,
   "metadata": {
    "colab": {
     "base_uri": "https://localhost:8080/",
     "height": 85
    },
    "colab_type": "code",
    "id": "aKelNGmJOqjD",
    "outputId": "f31fe31c-10cc-4620-de0d-e9e4763defe7"
   },
   "outputs": [
    {
     "name": "stdout",
     "output_type": "stream",
     "text": [
      "Train set accuracy  = 0.7986761013467245\n",
      "Train Error = 0.201324\n",
      "Test set accuracy = 0.7988535695674831\n",
      "Test Error = 0.201146\n"
     ]
    }
   ],
   "source": [
    "from pyspark.ml.evaluation import MulticlassClassificationEvaluator\n",
    "predictionAndLabels_train_dt = train_predictions_dt.select(\"prediction\", \"label\")\n",
    "evaluator = MulticlassClassificationEvaluator(metricName=\"accuracy\")\n",
    "train_accuracy = evaluator.evaluate(predictionAndLabels_train_dt)\n",
    "print(\"Train set accuracy  = \" + str(train_accuracy))\n",
    "print(\"Train Error = %g\" % (1.0 - train_accuracy))\n",
    "\n",
    "predictionAndLabels_test_dt = test_predictions_dt.select(\"prediction\", \"label\")\n",
    "test_accuracy = evaluator.evaluate(predictionAndLabels_test_dt)\n",
    "print(\"Test set accuracy = \" + str(test_accuracy))\n",
    "print(\"Test Error = %g\" % (1.0 - test_accuracy))"
   ]
  },
  {
   "cell_type": "code",
   "execution_count": 0,
   "metadata": {
    "colab": {},
    "colab_type": "code",
    "id": "Uf4zTNdTOrD9"
   },
   "outputs": [],
   "source": []
  }
 ],
 "metadata": {
  "colab": {
   "collapsed_sections": [],
   "name": "CBatch70_SparkML_Part2.ipynb",
   "provenance": [],
   "toc_visible": true
  },
  "kernelspec": {
   "display_name": "Python 3",
   "language": "python",
   "name": "python3"
  },
  "language_info": {
   "codemirror_mode": {
    "name": "ipython",
    "version": 3
   },
   "file_extension": ".py",
   "mimetype": "text/x-python",
   "name": "python",
   "nbconvert_exporter": "python",
   "pygments_lexer": "ipython3",
   "version": "3.7.3"
  }
 },
 "nbformat": 4,
 "nbformat_minor": 1
}
